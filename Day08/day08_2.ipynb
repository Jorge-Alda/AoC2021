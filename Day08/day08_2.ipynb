{
 "cells": [
  {
   "cell_type": "code",
   "execution_count": 1,
   "metadata": {},
   "outputs": [],
   "source": [
    "with open('input') as f:\n",
    "    data = f.read()"
   ]
  },
  {
   "cell_type": "code",
   "execution_count": 24,
   "metadata": {},
   "outputs": [],
   "source": [
    "def sortString(str):\n",
    "    return ''.join(sorted(str))"
   ]
  },
  {
   "cell_type": "code",
   "execution_count": 2,
   "metadata": {},
   "outputs": [],
   "source": [
    "lines = data.split('\\n')\n",
    "lines = lines[:-1]"
   ]
  },
  {
   "cell_type": "code",
   "execution_count": 41,
   "metadata": {},
   "outputs": [],
   "source": [
    "tot = 0\n",
    "for l in lines:\n",
    "    io = l.split(' | ')\n",
    "    inputs = io[0].split(' ')\n",
    "    numdict = {}\n",
    "    fsegments = []\n",
    "    ssegments = []\n",
    "    for i in inputs:\n",
    "        if len(i) == 2:\n",
    "            one = i\n",
    "            numdict.update({sortString(i):'1'})\n",
    "        if len(i) == 3:\n",
    "            seven = i\n",
    "            numdict.update({sortString(i):'7'})\n",
    "        if len(i) == 4:\n",
    "            four = i\n",
    "            numdict.update({sortString(i):'4'})\n",
    "        if len(i) == 7:\n",
    "            eight = i\n",
    "            numdict.update({sortString(i):'8'})\n",
    "        if len(i) == 5:\n",
    "            fsegments.append(i)\n",
    "        if len(i) == 6:\n",
    "            ssegments.append(i)\n",
    "    topseg = set(seven) - set(one)\n",
    "    horsegs = set(fsegments[0]).intersection(set(fsegments[1]), set(fsegments[2]))\n",
    "    midseg = horsegs.intersection(set(four))\n",
    "    for i in ssegments:\n",
    "        if len(set(i).intersection(midseg)) == 0:\n",
    "            numdict.update({sortString(i):'0'})\n",
    "        elif len(set(i).intersection(set(one))) == 2:\n",
    "            six = i\n",
    "            numdict.update({sortString(i):'9'})\n",
    "        else:\n",
    "            numdict.update({sortString(i):'6'})\n",
    "    for i in fsegments:\n",
    "        if len(set(i).intersection(set(one))) == 2:\n",
    "            numdict.update({sortString(i):'3'})\n",
    "        elif len(set(i).intersection(set(six))) == 5:\n",
    "            numdict.update({sortString(i):'5'})\n",
    "        else:\n",
    "            numdict.update({sortString(i):'2'})\n",
    "    outputs = io[1].split(' ')\n",
    "    out = ''\n",
    "    for o in outputs:\n",
    "        out += numdict[sortString(o)]\n",
    "    tot += int(out)"
   ]
  },
  {
   "cell_type": "code",
   "execution_count": 42,
   "metadata": {},
   "outputs": [
    {
     "data": {
      "text/plain": [
       "1048410"
      ]
     },
     "execution_count": 42,
     "metadata": {},
     "output_type": "execute_result"
    }
   ],
   "source": [
    "tot"
   ]
  }
 ],
 "metadata": {
  "interpreter": {
   "hash": "31f2aee4e71d21fbe5cf8b01ff0e069b9275f58929596ceb00d14d90e3e16cd6"
  },
  "kernelspec": {
   "display_name": "Python 3.8.10 64-bit",
   "language": "python",
   "name": "python3"
  },
  "language_info": {
   "codemirror_mode": {
    "name": "ipython",
    "version": 3
   },
   "file_extension": ".py",
   "mimetype": "text/x-python",
   "name": "python",
   "nbconvert_exporter": "python",
   "pygments_lexer": "ipython3",
   "version": "3.8.10"
  },
  "orig_nbformat": 4
 },
 "nbformat": 4,
 "nbformat_minor": 2
}
