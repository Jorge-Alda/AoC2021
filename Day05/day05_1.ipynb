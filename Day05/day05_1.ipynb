{
 "cells": [
  {
   "cell_type": "code",
   "execution_count": 1,
   "metadata": {},
   "outputs": [],
   "source": [
    "import numpy as np"
   ]
  },
  {
   "cell_type": "code",
   "execution_count": 2,
   "metadata": {},
   "outputs": [],
   "source": [
    "with open('input') as f:\n",
    "    data = f.read()"
   ]
  },
  {
   "cell_type": "code",
   "execution_count": 3,
   "metadata": {},
   "outputs": [],
   "source": [
    "inputlines = data.split('\\n')\n",
    "inputlines = inputlines[:-1]"
   ]
  },
  {
   "cell_type": "code",
   "execution_count": 4,
   "metadata": {},
   "outputs": [],
   "source": [
    "x0 = []\n",
    "y0 = []\n",
    "xf = []\n",
    "yf = []"
   ]
  },
  {
   "cell_type": "code",
   "execution_count": 5,
   "metadata": {},
   "outputs": [],
   "source": [
    "for l in inputlines:\n",
    "    coords = l.split(' -> ')\n",
    "    coords0 = coords[0].split(',')\n",
    "    x0.append(int(coords0[0]))\n",
    "    y0.append(int(coords0[1]))\n",
    "    coordsf = coords[1].split(',')\n",
    "    xf.append(int(coordsf[0]))\n",
    "    yf.append(int(coordsf[1]))"
   ]
  },
  {
   "cell_type": "code",
   "execution_count": 6,
   "metadata": {},
   "outputs": [],
   "source": [
    "xmax = max(max(x0), max(xf)) + 1\n",
    "ymax = max(max(y0), max(yf)) + 1"
   ]
  },
  {
   "cell_type": "code",
   "execution_count": 7,
   "metadata": {},
   "outputs": [],
   "source": [
    "field = np.zeros((xmax, ymax))"
   ]
  },
  {
   "cell_type": "code",
   "execution_count": 8,
   "metadata": {},
   "outputs": [],
   "source": [
    "for i in range(len(inputlines)):\n",
    "    if x0[i] == xf[i]:\n",
    "        x = x0[i]\n",
    "        miny = min(y0[i], yf[i])\n",
    "        maxy = max(y0[i], yf[i])\n",
    "        for y in range(miny, maxy+1):\n",
    "            field[x, y] += 1\n",
    "    if y0[i] == yf[i]:\n",
    "        y = y0[i]\n",
    "        minx = min(x0[i], xf[i])\n",
    "        maxx = max(x0[i], xf[i])\n",
    "        for x in range(minx, maxx+1):\n",
    "            field[x, y] += 1"
   ]
  },
  {
   "cell_type": "code",
   "execution_count": 9,
   "metadata": {},
   "outputs": [],
   "source": [
    "count = 0\n",
    "for i in field.flatten():\n",
    "    if i >= 2:\n",
    "        count += 1"
   ]
  },
  {
   "cell_type": "code",
   "execution_count": 10,
   "metadata": {},
   "outputs": [
    {
     "data": {
      "text/plain": [
       "5145"
      ]
     },
     "execution_count": 10,
     "metadata": {},
     "output_type": "execute_result"
    }
   ],
   "source": [
    "count"
   ]
  },
  {
   "cell_type": "code",
   "execution_count": null,
   "metadata": {},
   "outputs": [],
   "source": []
  }
 ],
 "metadata": {
  "interpreter": {
   "hash": "31f2aee4e71d21fbe5cf8b01ff0e069b9275f58929596ceb00d14d90e3e16cd6"
  },
  "kernelspec": {
   "display_name": "Python 3.8.10 64-bit",
   "language": "python",
   "name": "python3"
  },
  "language_info": {
   "codemirror_mode": {
    "name": "ipython",
    "version": 3
   },
   "file_extension": ".py",
   "mimetype": "text/x-python",
   "name": "python",
   "nbconvert_exporter": "python",
   "pygments_lexer": "ipython3",
   "version": "3.8.10"
  },
  "orig_nbformat": 4
 },
 "nbformat": 4,
 "nbformat_minor": 2
}
