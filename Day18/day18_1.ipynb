{
 "cells": [
  {
   "cell_type": "code",
   "execution_count": 25,
   "metadata": {},
   "outputs": [],
   "source": [
    "def firstnum(snailfish:str) -> tuple:\n",
    "    for i, c in enumerate(snailfish):\n",
    "        if c not in '[,]':\n",
    "            num = ''\n",
    "            j = i\n",
    "            while snailfish[j] not in '[,]':\n",
    "                num += snailfish[j]\n",
    "                j += 1\n",
    "            return (snailfish[:i], num, snailfish[j:])\n",
    "    return (snailfish,)"
   ]
  },
  {
   "cell_type": "code",
   "execution_count": 26,
   "metadata": {},
   "outputs": [],
   "source": [
    "def lastnum(snailfish:str) -> tuple:\n",
    "    res = firstnum(snailfish[::-1])\n",
    "    if len(res) == 1:\n",
    "        return res\n",
    "    else:\n",
    "        num = res[1]\n",
    "        revnum = num[::-1]\n",
    "        return (res[2][::-1], revnum, res[0][::-1])"
   ]
  },
  {
   "cell_type": "code",
   "execution_count": 29,
   "metadata": {},
   "outputs": [],
   "source": [
    "def reduce(snailfish:str) -> str:\n",
    "    openbrackets = 0\n",
    "    for i, c in enumerate(snailfish):\n",
    "        if c == ']':\n",
    "            openbrackets -= 1\n",
    "        if c == '[':\n",
    "            openbrackets += 1\n",
    "            if openbrackets == 5:\n",
    "                j = i\n",
    "                while snailfish[j] != ']':\n",
    "                    j += 1\n",
    "                exploded = snailfish[i+1:j].split(',')\n",
    "                leftexploded = int(exploded[0])\n",
    "                rightexploded = int(exploded[1])\n",
    "                leftside = lastnum(snailfish[:i])\n",
    "                rightside = firstnum(snailfish[j+1:])\n",
    "                if len(leftside) == 1:\n",
    "                    left = leftside[0]\n",
    "                else:\n",
    "                    left = leftside[0] + str(int(leftside[1]) + leftexploded) + leftside[2]\n",
    "                if len(rightside) == 1:\n",
    "                    right = rightside[0]\n",
    "                else:\n",
    "                    right = rightside[0] + str(int(rightside[1]) + rightexploded) + rightside[2]\n",
    "                return left + '0' + right\n",
    "    for i, c in enumerate(snailfish):\n",
    "        if c not in '[,]':\n",
    "            num = ''\n",
    "            j = i\n",
    "            while snailfish[j] not in '[,]':\n",
    "                num += snailfish[j]\n",
    "                j += 1\n",
    "            if int(num) > 9:\n",
    "                left = int(num) // 2\n",
    "                right = int(num)-left\n",
    "                return snailfish[:i] + f'[{left},{right}]' + snailfish[j:]\n",
    "    return snailfish"
   ]
  },
  {
   "cell_type": "code",
   "execution_count": 4,
   "metadata": {},
   "outputs": [],
   "source": [
    "def totreduce(snailfish:str) -> str:\n",
    "    sn1 = snailfish\n",
    "    while True:\n",
    "        sn2 = reduce(sn1)\n",
    "        if sn1 == sn2:\n",
    "            return sn1\n",
    "        else:\n",
    "            sn1 = sn2"
   ]
  },
  {
   "cell_type": "code",
   "execution_count": 5,
   "metadata": {},
   "outputs": [],
   "source": [
    "def add(sn1:str, sn2:str) -> str:\n",
    "    return '[' + sn1 + ',' + sn2 + ']'"
   ]
  },
  {
   "cell_type": "code",
   "execution_count": 34,
   "metadata": {},
   "outputs": [],
   "source": [
    "def magnitude(snailfish:str) -> int:\n",
    "    if ',' not in snailfish:\n",
    "        return int(snailfish)\n",
    "    for i, c in enumerate(snailfish):\n",
    "        if (c == ',') and (snailfish[i-1] != ']') and (snailfish[i+1] != '['):\n",
    "            left = lastnum(snailfish[:i])\n",
    "            right = firstnum(snailfish[i+1:])\n",
    "            m = 3*int(left[1]) + 2*int(right[1])\n",
    "            return magnitude(left[0][:-1] + str(m) + right[2][1:])"
   ]
  },
  {
   "cell_type": "code",
   "execution_count": 31,
   "metadata": {},
   "outputs": [],
   "source": [
    "with open('input') as f:\n",
    "    data = f.read()\n",
    "lines = data.split('\\n')\n",
    "sn = lines[0]\n",
    "lines = lines[1:-1]"
   ]
  },
  {
   "cell_type": "code",
   "execution_count": 32,
   "metadata": {},
   "outputs": [],
   "source": [
    "for l in lines:\n",
    "    sn2 = add(sn, l)\n",
    "    sn = totreduce(sn2)"
   ]
  },
  {
   "cell_type": "code",
   "execution_count": 35,
   "metadata": {},
   "outputs": [
    {
     "data": {
      "text/plain": [
       "3763"
      ]
     },
     "execution_count": 35,
     "metadata": {},
     "output_type": "execute_result"
    }
   ],
   "source": [
    "magnitude(sn)"
   ]
  },
  {
   "cell_type": "code",
   "execution_count": 37,
   "metadata": {},
   "outputs": [],
   "source": [
    "with open('input') as f:\n",
    "    data = f.read()\n",
    "lines = data.split('\\n')\n",
    "lines = lines[:-1]"
   ]
  },
  {
   "cell_type": "code",
   "execution_count": 38,
   "metadata": {},
   "outputs": [],
   "source": [
    "maxm = 0\n",
    "for i in range(len(lines)):\n",
    "    for j in range(len(lines)):\n",
    "        if i != j:\n",
    "            m = magnitude(totreduce(add(lines[i], lines[j])))\n",
    "            maxm = max(m, maxm)"
   ]
  },
  {
   "cell_type": "code",
   "execution_count": 39,
   "metadata": {},
   "outputs": [
    {
     "data": {
      "text/plain": [
       "4664"
      ]
     },
     "execution_count": 39,
     "metadata": {},
     "output_type": "execute_result"
    }
   ],
   "source": [
    "maxm"
   ]
  },
  {
   "cell_type": "code",
   "execution_count": null,
   "metadata": {},
   "outputs": [],
   "source": []
  }
 ],
 "metadata": {
  "interpreter": {
   "hash": "31f2aee4e71d21fbe5cf8b01ff0e069b9275f58929596ceb00d14d90e3e16cd6"
  },
  "kernelspec": {
   "display_name": "Python 3.8.10 64-bit",
   "language": "python",
   "name": "python3"
  },
  "language_info": {
   "codemirror_mode": {
    "name": "ipython",
    "version": 3
   },
   "file_extension": ".py",
   "mimetype": "text/x-python",
   "name": "python",
   "nbconvert_exporter": "python",
   "pygments_lexer": "ipython3",
   "version": "3.8.10"
  },
  "orig_nbformat": 4
 },
 "nbformat": 4,
 "nbformat_minor": 2
}
