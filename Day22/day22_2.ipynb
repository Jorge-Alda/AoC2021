{
 "cells": [
  {
   "cell_type": "code",
   "execution_count": 1,
   "metadata": {},
   "outputs": [],
   "source": [
    "from typing import Union\n",
    "from multipledispatch import dispatch"
   ]
  },
  {
   "cell_type": "code",
   "execution_count": 2,
   "metadata": {},
   "outputs": [],
   "source": [
    "Point = Union[list[int], tuple[int, ...]]"
   ]
  },
  {
   "cell_type": "code",
   "execution_count": 15,
   "metadata": {},
   "outputs": [],
   "source": [
    "class Block():\n",
    "\n",
    "    @dispatch((tuple, list), (tuple, list))\n",
    "    def __init__(self, start: Point, end: Point) -> None:\n",
    "        self.start = tuple(start)\n",
    "        self.end = tuple(end)\n",
    "        self.dim = len(start)\n",
    "\n",
    "    @dispatch(str)\n",
    "    def __init__(self, coords: str) -> None:\n",
    "        coordlist = coords.split(',')\n",
    "        self.dim = len(coordlist)\n",
    "        start = [0,]*self.dim\n",
    "        end = [0,]*self.dim\n",
    "        for i, c in enumerate(coordlist):\n",
    "            v = c.split('=')[1]\n",
    "            se = v.split('..')\n",
    "            start[i] = int(se[0])\n",
    "            end[i] = int(se[1])\n",
    "        self.start = tuple(start)\n",
    "        self.end = tuple(end)\n",
    "\n",
    "    def __repr__(self) -> str:\n",
    "        return f'{self.start} => {self.end}'\n",
    "\n",
    "    def volume(self) -> int:\n",
    "        vol = 1\n",
    "        for i in range(self.dim):\n",
    "            vol *= (self.end[i]-self.start[i]) + 1\n",
    "        return vol\n",
    "        \n",
    "    def check_overlap(self, other: Block) -> bool:\n",
    "        for i in range(self.dim):\n",
    "            if self.end[i] < other.start[i]:\n",
    "                return False\n",
    "            if other.end[i] < self.start[i]:\n",
    "                return False\n",
    "        return True\n",
    "\n",
    "    def slice(self, other: Block) -> list[Block]:\n",
    "        if not self.check_overlap(other):\n",
    "            return [self,]\n",
    "        cuts = [0,]*self.dim\n",
    "        intersecc = [0,]*self.dim\n",
    "        for d in range(self.dim):\n",
    "            if self.start[d] <= other.start[d]:\n",
    "                if self.end[d] < other.end[d]:\n",
    "                    cuts[d] = (self.start[d]-1, other.start[d]-1, self.end[d])\n",
    "                    intersecc[d] = 1\n",
    "                else:\n",
    "                    cuts[d] = (self.start[d]-1, other.start[d]-1, other.end[d], self.end[d])\n",
    "                    intersecc[d] = 1\n",
    "            else:\n",
    "                if self.end[d] >= other.end[d]:\n",
    "                    cuts[d] = (self.start[d]-1, other.end[d], self.end[d])\n",
    "                    intersecc[d] = 0\n",
    "                else:\n",
    "                    cuts[d] = (self.start[d]-1, self.end[d])\n",
    "                    intersecc[d] = 0\n",
    "                    \n",
    "        childs = []\n",
    "        child_index = [0,]*self.dim\n",
    "        cont = True\n",
    "        while cont:\n",
    "            if child_index != intersecc:\n",
    "                start = [0,]*self.dim\n",
    "                end = [0,]*self.dim\n",
    "                for d in range(self.dim):\n",
    "                    start[d] = cuts[d][child_index[d]]+1\n",
    "                    end[d] = cuts[d][child_index[d]+1]\n",
    "                childs.append(Block(start, end))\n",
    "            rem = 1\n",
    "            for s in range(len(child_index)):\n",
    "                r = (child_index[s] + rem) // (len(cuts[s])-1)\n",
    "                child_index[s] = (child_index[s] + rem) % (len(cuts[s])-1)\n",
    "                rem = r\n",
    "            if rem == 1:\n",
    "                cont = False\n",
    "        return childs\n",
    "\n"
   ]
  },
  {
   "cell_type": "code",
   "execution_count": 16,
   "metadata": {},
   "outputs": [],
   "source": [
    "with open('input', 'rt') as f:\n",
    "    data = f.read()\n",
    "lines = data.split('\\n')"
   ]
  },
  {
   "cell_type": "code",
   "execution_count": 30,
   "metadata": {},
   "outputs": [],
   "source": [
    "blocklist = [Block(lines[0].split(' ')[1]),]"
   ]
  },
  {
   "cell_type": "code",
   "execution_count": 31,
   "metadata": {},
   "outputs": [],
   "source": [
    "for i in range(1,len(lines)-1):\n",
    "    vol = 0\n",
    "    for b in blocklist:\n",
    "        vol += b.volume()\n",
    "    blockdata = lines[i].split(' ')\n",
    "    newb = Block(blockdata[1])\n",
    "    newlist = []\n",
    "    for b in blocklist:\n",
    "        newlist += b.slice(newb)\n",
    "    if blockdata[0] == 'on':\n",
    "        newlist.append(newb)\n",
    "    blocklist = newlist"
   ]
  },
  {
   "cell_type": "code",
   "execution_count": 32,
   "metadata": {},
   "outputs": [],
   "source": [
    "vol = 0\n",
    "for b in blocklist:\n",
    "    vol += b.volume()"
   ]
  },
  {
   "cell_type": "code",
   "execution_count": 33,
   "metadata": {},
   "outputs": [
    {
     "data": {
      "text/plain": [
       "1235484513229032"
      ]
     },
     "execution_count": 33,
     "metadata": {},
     "output_type": "execute_result"
    }
   ],
   "source": [
    "vol"
   ]
  }
 ],
 "metadata": {
  "interpreter": {
   "hash": "31f2aee4e71d21fbe5cf8b01ff0e069b9275f58929596ceb00d14d90e3e16cd6"
  },
  "kernelspec": {
   "display_name": "Python 3.8.10 64-bit",
   "language": "python",
   "name": "python3"
  },
  "language_info": {
   "codemirror_mode": {
    "name": "ipython",
    "version": 3
   },
   "file_extension": ".py",
   "mimetype": "text/x-python",
   "name": "python",
   "nbconvert_exporter": "python",
   "pygments_lexer": "ipython3",
   "version": "3.9.5"
  },
  "orig_nbformat": 4
 },
 "nbformat": 4,
 "nbformat_minor": 2
}
