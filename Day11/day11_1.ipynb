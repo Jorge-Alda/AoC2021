{
 "cells": [
  {
   "cell_type": "code",
   "execution_count": 1,
   "metadata": {},
   "outputs": [],
   "source": [
    "import numpy as np"
   ]
  },
  {
   "cell_type": "code",
   "execution_count": 79,
   "metadata": {},
   "outputs": [],
   "source": [
    "class Cave():\n",
    "\n",
    "    def __init__(self, data):\n",
    "        lines = data.split('\\n')\n",
    "        lines = lines[:-1]\n",
    "        self.dim = len(lines)\n",
    "        self.map = np.zeros((self.dim, self.dim))\n",
    "        self.flashednow = np.zeros((self.dim, self.dim))\n",
    "        self.flashes = 0\n",
    "        self.Nsteps = 0\n",
    "        for x in range(self.dim):\n",
    "            for y in range(self.dim):\n",
    "                self.map[x, y] = int(lines[x][y])\n",
    "\n",
    "    def flash(self):\n",
    "        flashed = False\n",
    "        for x in range(self.dim):\n",
    "            for y in range(self.dim):\n",
    "                if self.map[x, y] > 9:\n",
    "                    flashed = True\n",
    "                    self.flashes += 1\n",
    "                    self.map[x, y] = 0\n",
    "                    self.flashednow[x, y] = 1\n",
    "                    to_flash = []\n",
    "                    if (x==0) and (y==0):\n",
    "                        to_flash = [(0,1), (1,1), (1,0)]\n",
    "                    elif (x==0) and (y==self.dim-1):\n",
    "                        to_flash = [(0,y-1), (1,y-1), (1,y)]\n",
    "                    elif (x==self.dim-1) and (y==0):\n",
    "                        to_flash = [(x-1,0), (x-1,1), (x,1)]\n",
    "                    elif (x==self.dim-1) and (y==self.dim-1):\n",
    "                        to_flash = [(x-1,y), (x-1,y-1), (x,y-1)]\n",
    "                    elif x==0:\n",
    "                        to_flash = [(0, y-1), (1,y-1), (1,y), (1,y+1), (0,y+1)]\n",
    "                    elif x==self.dim-1:\n",
    "                        to_flash = [(x,y-1), (x-1,y-1), (x-1,y), (x-1,y+1), (x,y+1)]\n",
    "                    elif y==0:\n",
    "                        to_flash = [(x-1, 0), (x-1, 1), (x,1), (x+1,1), (x+1,0)]\n",
    "                    elif y==self.dim-1:\n",
    "                        to_flash = [(x-1, y), (x-1, y-1), (x, y-1), (x+1, y-1), (x+1, y)]\n",
    "                    else:\n",
    "                        to_flash = [(x-1, y-1), (x-1, y), (x-1, y+1), (x, y+1), (x+1, y+1), (x+1, y), (x+1, y-1), (x, y-1)]\n",
    "                    for c in to_flash:\n",
    "                        if self.flashednow[c[0], c[1]] == 0:\n",
    "                            self.map[c[0], c[1]] += 1\n",
    "        return flashed\n",
    "\n",
    "    def step(self):\n",
    "        self.Nsteps += 1\n",
    "        self.map = self.map + np.ones((self.dim, self.dim))\n",
    "        while self.flash():\n",
    "            pass\n",
    "        s = np.sum(self.flashednow)\n",
    "        self.flashednow = np.zeros((self.dim, self.dim))\n",
    "        return s\n"
   ]
  },
  {
   "cell_type": "code",
   "execution_count": 80,
   "metadata": {},
   "outputs": [],
   "source": [
    "with open('input') as f:\n",
    "    data = f.read()"
   ]
  },
  {
   "cell_type": "code",
   "execution_count": 85,
   "metadata": {},
   "outputs": [],
   "source": [
    "c = Cave(data)"
   ]
  },
  {
   "cell_type": "code",
   "execution_count": 86,
   "metadata": {},
   "outputs": [],
   "source": [
    "for i in range(100):\n",
    "    c.step()"
   ]
  },
  {
   "cell_type": "code",
   "execution_count": 87,
   "metadata": {},
   "outputs": [
    {
     "data": {
      "text/plain": [
       "1669"
      ]
     },
     "execution_count": 87,
     "metadata": {},
     "output_type": "execute_result"
    }
   ],
   "source": [
    "c.flashes"
   ]
  },
  {
   "cell_type": "code",
   "execution_count": 88,
   "metadata": {},
   "outputs": [],
   "source": [
    "c = Cave(data)"
   ]
  },
  {
   "cell_type": "code",
   "execution_count": 89,
   "metadata": {},
   "outputs": [],
   "source": [
    "while c.step() < c.dim**2:\n",
    "    pass"
   ]
  },
  {
   "cell_type": "code",
   "execution_count": 90,
   "metadata": {},
   "outputs": [
    {
     "data": {
      "text/plain": [
       "351"
      ]
     },
     "execution_count": 90,
     "metadata": {},
     "output_type": "execute_result"
    }
   ],
   "source": [
    "c.Nsteps"
   ]
  },
  {
   "cell_type": "code",
   "execution_count": null,
   "metadata": {},
   "outputs": [],
   "source": []
  }
 ],
 "metadata": {
  "interpreter": {
   "hash": "31f2aee4e71d21fbe5cf8b01ff0e069b9275f58929596ceb00d14d90e3e16cd6"
  },
  "kernelspec": {
   "display_name": "Python 3.8.10 64-bit",
   "language": "python",
   "name": "python3"
  },
  "language_info": {
   "codemirror_mode": {
    "name": "ipython",
    "version": 3
   },
   "file_extension": ".py",
   "mimetype": "text/x-python",
   "name": "python",
   "nbconvert_exporter": "python",
   "pygments_lexer": "ipython3",
   "version": "3.8.10"
  },
  "orig_nbformat": 4
 },
 "nbformat": 4,
 "nbformat_minor": 2
}
