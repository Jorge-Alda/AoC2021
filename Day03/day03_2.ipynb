{
 "cells": [
  {
   "cell_type": "code",
   "execution_count": 92,
   "metadata": {},
   "outputs": [],
   "source": [
    "with open('input') as f:\n",
    "    data = f.read()"
   ]
  },
  {
   "cell_type": "code",
   "execution_count": 93,
   "metadata": {},
   "outputs": [],
   "source": [
    "bits = data.split('\\n')\n",
    "bits = bits[:-1]"
   ]
  },
  {
   "cell_type": "code",
   "execution_count": 94,
   "metadata": {},
   "outputs": [],
   "source": [
    "def bin2dec(x):\n",
    "    lenb = len(x)\n",
    "    tot = 0\n",
    "    for i in range(lenb):\n",
    "        if x[i] == '1':\n",
    "            tot += 2**(lenb-i-1)\n",
    "    return tot"
   ]
  },
  {
   "cell_type": "code",
   "execution_count": 95,
   "metadata": {},
   "outputs": [],
   "source": [
    "Nbits = len(bits[0])"
   ]
  },
  {
   "cell_type": "code",
   "execution_count": 105,
   "metadata": {},
   "outputs": [],
   "source": [
    "removed_O2 = []\n",
    "removed_CO2 = []"
   ]
  },
  {
   "cell_type": "code",
   "execution_count": 106,
   "metadata": {},
   "outputs": [],
   "source": [
    "for pos in range(Nbits):\n",
    "    count = 0\n",
    "    for b in bits:\n",
    "        if (b not in removed_O2) and (b[pos] == '1'):\n",
    "            count += 1\n",
    "    if count >= (len(bits) - len(removed_O2))/2:\n",
    "        remove_char = '0'\n",
    "    else:\n",
    "        remove_char = '1'\n",
    "    for b in bits:\n",
    "        if (b not in removed_O2) and (b[pos] == remove_char):\n",
    "            removed_O2.append(b)\n",
    "    #print(removed_O2)\n",
    "    if len(removed_O2) == len(bits)-1:\n",
    "        break"
   ]
  },
  {
   "cell_type": "code",
   "execution_count": 107,
   "metadata": {},
   "outputs": [],
   "source": [
    "setO2 = set(bits) - set(removed_O2)\n",
    "for i in setO2:\n",
    "    O2 = bin2dec(i)"
   ]
  },
  {
   "cell_type": "code",
   "execution_count": 108,
   "metadata": {},
   "outputs": [
    {
     "data": {
      "text/plain": [
       "3583"
      ]
     },
     "execution_count": 108,
     "metadata": {},
     "output_type": "execute_result"
    }
   ],
   "source": [
    "O2"
   ]
  },
  {
   "cell_type": "code",
   "execution_count": 109,
   "metadata": {},
   "outputs": [],
   "source": [
    "for pos in range(Nbits):\n",
    "    count = 0\n",
    "    for b in bits:\n",
    "        if (b not in removed_CO2) and (b[pos] == '1'):\n",
    "            count += 1\n",
    "    if count >= (len(bits) - len(removed_CO2))/2:\n",
    "        remove_char = '1'\n",
    "    else:\n",
    "        remove_char = '0'\n",
    "    for b in bits:\n",
    "        if (b not in removed_CO2) and (b[pos] == remove_char):\n",
    "            removed_CO2.append(b)\n",
    "    #print(removed_CO2)\n",
    "    if len(removed_CO2) == len(bits)-1:\n",
    "        break"
   ]
  },
  {
   "cell_type": "code",
   "execution_count": 110,
   "metadata": {},
   "outputs": [],
   "source": [
    "setCO2 = set(bits) - set(removed_CO2)\n",
    "for i in setCO2:\n",
    "    CO2 = bin2dec(i)"
   ]
  },
  {
   "cell_type": "code",
   "execution_count": 111,
   "metadata": {},
   "outputs": [
    {
     "data": {
      "text/plain": [
       "5736383"
      ]
     },
     "execution_count": 111,
     "metadata": {},
     "output_type": "execute_result"
    }
   ],
   "source": [
    "CO2*O2"
   ]
  },
  {
   "cell_type": "code",
   "execution_count": 104,
   "metadata": {},
   "outputs": [],
   "source": [
    "CO2=0"
   ]
  },
  {
   "cell_type": "code",
   "execution_count": null,
   "metadata": {},
   "outputs": [],
   "source": []
  }
 ],
 "metadata": {
  "interpreter": {
   "hash": "31f2aee4e71d21fbe5cf8b01ff0e069b9275f58929596ceb00d14d90e3e16cd6"
  },
  "kernelspec": {
   "display_name": "Python 3.8.10 64-bit",
   "language": "python",
   "name": "python3"
  },
  "language_info": {
   "codemirror_mode": {
    "name": "ipython",
    "version": 3
   },
   "file_extension": ".py",
   "mimetype": "text/x-python",
   "name": "python",
   "nbconvert_exporter": "python",
   "pygments_lexer": "ipython3",
   "version": "3.8.10"
  },
  "orig_nbformat": 4
 },
 "nbformat": 4,
 "nbformat_minor": 2
}
