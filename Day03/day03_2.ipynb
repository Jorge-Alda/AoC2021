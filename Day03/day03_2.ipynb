{
 "cells": [
  {
   "cell_type": "code",
   "execution_count": 52,
   "metadata": {},
   "outputs": [],
   "source": [
    "with open('test') as f:\n",
    "    data = f.read()"
   ]
  },
  {
   "cell_type": "code",
   "execution_count": 53,
   "metadata": {},
   "outputs": [],
   "source": [
    "bits = data.split('\\n')\n",
    "bits = bits[:-1]"
   ]
  },
  {
   "cell_type": "code",
   "execution_count": 54,
   "metadata": {},
   "outputs": [],
   "source": [
    "bits_O2 = bits.copy()\n",
    "bits_CO2 = bits.copy()"
   ]
  },
  {
   "cell_type": "code",
   "execution_count": 55,
   "metadata": {},
   "outputs": [],
   "source": [
    "Nbits = len(bits[0])"
   ]
  },
  {
   "cell_type": "code",
   "execution_count": 56,
   "metadata": {},
   "outputs": [],
   "source": [
    "removed_O2 = []"
   ]
  },
  {
   "cell_type": "code",
   "execution_count": 61,
   "metadata": {},
   "outputs": [
    {
     "name": "stdout",
     "output_type": "stream",
     "text": [
      "['00100', '01111', '00111', '00010', '01010']\n",
      "['00100', '01111', '00111', '00010', '01010', '11110', '11100', '11001']\n",
      "['00100', '01111', '00111', '00010', '01010', '11110', '11100', '11001', '10000']\n",
      "['00100', '01111', '00111', '00010', '01010', '11110', '11100', '11001', '10000', '10101']\n",
      "['00100', '01111', '00111', '00010', '01010', '11110', '11100', '11001', '10000', '10101', '10110']\n"
     ]
    }
   ],
   "source": [
    "for pos in range(len(bits[0])):\n",
    "    count = 0\n",
    "    for b in bits:\n",
    "        if (b not in removed_O2) and (b[pos] == '1'):\n",
    "            count += 1\n",
    "    if count >= (len(bits) - len(removed_O2))/2:\n",
    "        remove_char = '0'\n",
    "    else:\n",
    "        remove_char = '1'\n",
    "    for b in bits:\n",
    "        if (b not in removed_O2) and (b[pos] == remove_char):\n",
    "            removed_O2.append(b)\n",
    "    print(removed_O2)\n",
    "    if len(removed_O2) == len(bits)-1:\n",
    "        break"
   ]
  },
  {
   "cell_type": "code",
   "execution_count": 63,
   "metadata": {},
   "outputs": [],
   "source": [
    "setO2 = set(bits) - set(removed_O2)"
   ]
  },
  {
   "cell_type": "code",
   "execution_count": 70,
   "metadata": {},
   "outputs": [],
   "source": [
    "def bin2dec(x):\n",
    "    lenb = len(x)\n",
    "    tot = 0\n",
    "    for i in range(lenb):\n",
    "        if x[i] == '1':\n",
    "            tot += 2**(lenb-i-1)\n",
    "    return tot"
   ]
  },
  {
   "cell_type": "code",
   "execution_count": null,
   "metadata": {},
   "outputs": [],
   "source": []
  }
 ],
 "metadata": {
  "interpreter": {
   "hash": "31f2aee4e71d21fbe5cf8b01ff0e069b9275f58929596ceb00d14d90e3e16cd6"
  },
  "kernelspec": {
   "display_name": "Python 3.8.10 64-bit",
   "language": "python",
   "name": "python3"
  },
  "language_info": {
   "codemirror_mode": {
    "name": "ipython",
    "version": 3
   },
   "file_extension": ".py",
   "mimetype": "text/x-python",
   "name": "python",
   "nbconvert_exporter": "python",
   "pygments_lexer": "ipython3",
   "version": "3.8.10"
  },
  "orig_nbformat": 4
 },
 "nbformat": 4,
 "nbformat_minor": 2
}
