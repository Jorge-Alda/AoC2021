{
 "cells": [
  {
   "cell_type": "code",
   "execution_count": 3,
   "metadata": {},
   "outputs": [],
   "source": [
    "import numpy as np"
   ]
  },
  {
   "cell_type": "code",
   "execution_count": 1,
   "metadata": {},
   "outputs": [],
   "source": [
    "with open('input') as f:\n",
    "    data = f.read()"
   ]
  },
  {
   "cell_type": "code",
   "execution_count": 21,
   "metadata": {},
   "outputs": [],
   "source": [
    "class heatmap():\n",
    "    \n",
    "    def __init__(self, data):\n",
    "        h = data.split('\\n')\n",
    "        h = h[:-1]\n",
    "        self.heatmap = [list(l) for l in h]\n",
    "        self.dimx = len(self.heatmap)\n",
    "        self.dimy = len(self.heatmap[0])\n",
    "        self.basins = np.zeros((self.dimx, self.dimy))\n",
    "        self.basinlist = np.zeros(self.dimx*self.dimy)\n",
    "        self.nextbas = 1\n",
    "\n",
    "    def expandbasin(self, x, y, index):\n",
    "        if (self.heatmap[x][y] != '9') and (self.basins[x][y] == 0):\n",
    "            self.basins[x][y] = index\n",
    "            self.basinlist[index] += 1 \n",
    "            if x > 0:\n",
    "                self.expandbasin(x-1, y, index)\n",
    "            if y > 0:\n",
    "                self.expandbasin(x, y-1, index)\n",
    "            if x < self.dimx-1:\n",
    "                self.expandbasin(x+1, y, index)\n",
    "            if y < self.dimy-1:\n",
    "                self.expandbasin(x, y+1, index)\n",
    "\n",
    "    def checkmap(self):\n",
    "        for x in range(self.dimx):\n",
    "            for y in range(self.dimy):\n",
    "                if (self.heatmap[x][y] != '9') and (self.basins[x][y] == 0):\n",
    "                    self.expandbasin(x, y, self.nextbas)\n",
    "                    self.nextbas += 1\n"
   ]
  },
  {
   "cell_type": "code",
   "execution_count": 22,
   "metadata": {},
   "outputs": [],
   "source": [
    "map = heatmap(data)"
   ]
  },
  {
   "cell_type": "code",
   "execution_count": 23,
   "metadata": {},
   "outputs": [],
   "source": [
    "map.checkmap()"
   ]
  },
  {
   "cell_type": "code",
   "execution_count": 30,
   "metadata": {},
   "outputs": [],
   "source": [
    "sortlist = sorted(map.basinlist)\n",
    "result = sortlist[-1] * sortlist[-2] * sortlist[-3]"
   ]
  },
  {
   "cell_type": "code",
   "execution_count": 31,
   "metadata": {},
   "outputs": [
    {
     "data": {
      "text/plain": [
       "1391940.0"
      ]
     },
     "execution_count": 31,
     "metadata": {},
     "output_type": "execute_result"
    }
   ],
   "source": [
    "result"
   ]
  }
 ],
 "metadata": {
  "interpreter": {
   "hash": "31f2aee4e71d21fbe5cf8b01ff0e069b9275f58929596ceb00d14d90e3e16cd6"
  },
  "kernelspec": {
   "display_name": "Python 3.8.10 64-bit",
   "language": "python",
   "name": "python3"
  },
  "language_info": {
   "codemirror_mode": {
    "name": "ipython",
    "version": 3
   },
   "file_extension": ".py",
   "mimetype": "text/x-python",
   "name": "python",
   "nbconvert_exporter": "python",
   "pygments_lexer": "ipython3",
   "version": "3.8.10"
  },
  "orig_nbformat": 4
 },
 "nbformat": 4,
 "nbformat_minor": 2
}
