{
 "cells": [
  {
   "cell_type": "code",
   "execution_count": 1,
   "metadata": {},
   "outputs": [],
   "source": [
    "with open('input') as f:\n",
    "    data = f.read()"
   ]
  },
  {
   "cell_type": "code",
   "execution_count": 11,
   "metadata": {},
   "outputs": [],
   "source": [
    "h = data.split('\\n')\n",
    "h = h[:-1]\n",
    "heatmap = [list(l) for l in h]\n",
    "dimx = len(heatmap)\n",
    "dimy = len(heatmap[0])\n",
    "for x in range(dimx):\n",
    "    for y in range(dimy):\n",
    "        heatmap[x][y] = int(heatmap[x][y])"
   ]
  },
  {
   "cell_type": "code",
   "execution_count": 14,
   "metadata": {},
   "outputs": [],
   "source": [
    "risk = 0\n",
    "if (heatmap[0][0] < heatmap[0][1]) and (heatmap[0][0] < heatmap[1][0]):\n",
    "    risk += heatmap[0][0] + 1\n",
    "if (heatmap[0][-1] < heatmap[0][-2]) and (heatmap[0][-1] < heatmap[1][-1]):\n",
    "    risk += heatmap[0][-1] + 1\n",
    "if (heatmap[-1][0] < heatmap[-1][1]) and (heatmap[-1][0] < heatmap[-2][0]):\n",
    "    risk += heatmap[-1][0] + 1\n",
    "if (heatmap[-1][-1] < heatmap[-1][-2]) and (heatmap[-1][-1] < heatmap[-2][-1]):\n",
    "    risk += heatmap[-1][-1] + 1\n",
    "for x in range(1, dimx-1):\n",
    "    if (heatmap[x][0] < heatmap[x-1][0]) and (heatmap[x][0] < heatmap[x+1][0]) and (heatmap[x][0] < heatmap[x][1]):\n",
    "        risk += heatmap[x][0] + 1\n",
    "    if (heatmap[x][-1] < heatmap[x-1][-1]) and (heatmap[x][-1] < heatmap[x+1][-1]) and (heatmap[x][-1] < heatmap[x][-2]):\n",
    "        risk += heatmap[x][-1] + 1\n",
    "for y in range(1, dimy-1):\n",
    "    if (heatmap[0][y] < heatmap[0][y-1]) and (heatmap[0][y] < heatmap[0][y+1]) and (heatmap[0][y] < heatmap[1][y]):\n",
    "        risk += heatmap[0][y] + 1\n",
    "    if (heatmap[-1][y] < heatmap[-1][y-1]) and (heatmap[-1][y] < heatmap[-1][y+1]) and (heatmap[-1][y] < heatmap[-2][y]):\n",
    "        risk += heatmap[-1][y] + 1\n",
    "for x in range(1, dimx-1):\n",
    "    for y in range(1, dimy-1):\n",
    "        if (heatmap[x][y] < heatmap[x-1][y]) and (heatmap[x][y] < heatmap[x+1][y]) and (heatmap[x][y] < heatmap[x][y-1]) and (heatmap[x][y] < heatmap[x][y+1]):\n",
    "            risk += heatmap[x][y] + 1"
   ]
  },
  {
   "cell_type": "code",
   "execution_count": 15,
   "metadata": {},
   "outputs": [
    {
     "data": {
      "text/plain": [
       "458"
      ]
     },
     "execution_count": 15,
     "metadata": {},
     "output_type": "execute_result"
    }
   ],
   "source": [
    "risk"
   ]
  },
  {
   "cell_type": "code",
   "execution_count": null,
   "metadata": {},
   "outputs": [],
   "source": []
  }
 ],
 "metadata": {
  "interpreter": {
   "hash": "31f2aee4e71d21fbe5cf8b01ff0e069b9275f58929596ceb00d14d90e3e16cd6"
  },
  "kernelspec": {
   "display_name": "Python 3.8.10 64-bit",
   "language": "python",
   "name": "python3"
  },
  "language_info": {
   "codemirror_mode": {
    "name": "ipython",
    "version": 3
   },
   "file_extension": ".py",
   "mimetype": "text/x-python",
   "name": "python",
   "nbconvert_exporter": "python",
   "pygments_lexer": "ipython3",
   "version": "3.8.10"
  },
  "orig_nbformat": 4
 },
 "nbformat": 4,
 "nbformat_minor": 2
}
