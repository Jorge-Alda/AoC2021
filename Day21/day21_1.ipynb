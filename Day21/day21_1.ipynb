{
 "cells": [
  {
   "cell_type": "code",
   "execution_count": 38,
   "metadata": {},
   "outputs": [],
   "source": [
    "pos1 = 4\n",
    "pos2 = 5"
   ]
  },
  {
   "cell_type": "code",
   "execution_count": 17,
   "metadata": {},
   "outputs": [],
   "source": [
    "def ddie():\n",
    "    num = 0\n",
    "    while True:\n",
    "        yield 1 + num%100\n",
    "        num+=1"
   ]
  },
  {
   "cell_type": "code",
   "execution_count": 39,
   "metadata": {},
   "outputs": [
    {
     "name": "stdout",
     "output_type": "stream",
     "text": [
      "930\n",
      "930\n",
      "864900\n"
     ]
    }
   ],
   "source": [
    "d = ddie()\n",
    "score1 = 0\n",
    "score2 = 0\n",
    "dies = 0\n",
    "while True:\n",
    "    pos1 = ((pos1-1)+next(d)+next(d)+next(d))%10 + 1\n",
    "    score1 += pos1\n",
    "    dies += 3\n",
    "    if score1 >= 1000:\n",
    "        print(dies)\n",
    "        print(score2)\n",
    "        print(dies*score2)\n",
    "        break\n",
    "    pos2 = ((pos2-1)+next(d)+next(d)+next(d))%10 + 1\n",
    "    score2 += pos2\n",
    "    dies += 3\n",
    "    if score2 >= 1000:\n",
    "        print(dies)\n",
    "        print(score1)\n",
    "        print(dies*score1)\n",
    "        break "
   ]
  },
  {
   "cell_type": "code",
   "execution_count": null,
   "metadata": {},
   "outputs": [],
   "source": []
  }
 ],
 "metadata": {
  "interpreter": {
   "hash": "31f2aee4e71d21fbe5cf8b01ff0e069b9275f58929596ceb00d14d90e3e16cd6"
  },
  "kernelspec": {
   "display_name": "Python 3.8.10 64-bit",
   "language": "python",
   "name": "python3"
  },
  "language_info": {
   "codemirror_mode": {
    "name": "ipython",
    "version": 3
   },
   "file_extension": ".py",
   "mimetype": "text/x-python",
   "name": "python",
   "nbconvert_exporter": "python",
   "pygments_lexer": "ipython3",
   "version": "3.8.10"
  },
  "orig_nbformat": 4
 },
 "nbformat": 4,
 "nbformat_minor": 2
}
