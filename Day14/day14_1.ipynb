{
 "cells": [
  {
   "cell_type": "code",
   "execution_count": 58,
   "metadata": {},
   "outputs": [],
   "source": [
    "with open('input') as f:\n",
    "    data = f.read()\n",
    "lines = data.split('\\n')\n",
    "poly = lines[0]\n",
    "lines = lines[2:-1]"
   ]
  },
  {
   "cell_type": "code",
   "execution_count": 59,
   "metadata": {},
   "outputs": [],
   "source": [
    "repl = {}\n",
    "for l in lines:\n",
    "    rule = l.split(' -> ')\n",
    "    repl.update({rule[0]:(rule[0][0]+rule[1], rule[1]+rule[0][1])})"
   ]
  },
  {
   "cell_type": "code",
   "execution_count": 60,
   "metadata": {},
   "outputs": [],
   "source": [
    "chain = {l:0 for l in repl.keys()}\n",
    "for i in range(len(poly)-1):\n",
    "    s = poly[i:i+2]\n",
    "    chain[s] += 1"
   ]
  },
  {
   "cell_type": "code",
   "execution_count": 61,
   "metadata": {},
   "outputs": [],
   "source": [
    "def polymerize(oldchain):\n",
    "    newchain = {l:0 for l in repl.keys()}\n",
    "    for k, v in oldchain.items():\n",
    "        reaction = repl[k]\n",
    "        newchain[reaction[0]] += v\n",
    "        newchain[reaction[1]] += v\n",
    "    return newchain"
   ]
  },
  {
   "cell_type": "code",
   "execution_count": 62,
   "metadata": {},
   "outputs": [],
   "source": [
    "for i in range(10):\n",
    "    chain = polymerize(chain)"
   ]
  },
  {
   "cell_type": "code",
   "execution_count": 63,
   "metadata": {},
   "outputs": [],
   "source": [
    "alphabet = ''\n",
    "for k in chain.keys():\n",
    "    alphabet += k\n",
    "alphabet = list(set(alphabet))"
   ]
  },
  {
   "cell_type": "code",
   "execution_count": 64,
   "metadata": {},
   "outputs": [],
   "source": [
    "countletters = {l:0 for l in alphabet}\n",
    "for k, v in chain.items():\n",
    "    countletters[k[0]] += v/2\n",
    "    countletters[k[1]] += v/2"
   ]
  },
  {
   "cell_type": "code",
   "execution_count": 65,
   "metadata": {},
   "outputs": [
    {
     "data": {
      "text/plain": [
       "2767.5"
      ]
     },
     "execution_count": 65,
     "metadata": {},
     "output_type": "execute_result"
    }
   ],
   "source": [
    "max(countletters.values()) - min(countletters.values())"
   ]
  },
  {
   "cell_type": "code",
   "execution_count": 66,
   "metadata": {},
   "outputs": [],
   "source": [
    "for i in range(30):\n",
    "    chain = polymerize(chain)"
   ]
  },
  {
   "cell_type": "code",
   "execution_count": 67,
   "metadata": {},
   "outputs": [],
   "source": [
    "countletters = {l:0 for l in alphabet}\n",
    "for k, v in chain.items():\n",
    "    countletters[k[0]] += v/2\n",
    "    countletters[k[1]] += v/2"
   ]
  },
  {
   "cell_type": "code",
   "execution_count": 68,
   "metadata": {},
   "outputs": [
    {
     "data": {
      "text/plain": [
       "2914365137498.5"
      ]
     },
     "execution_count": 68,
     "metadata": {},
     "output_type": "execute_result"
    }
   ],
   "source": [
    "max(countletters.values()) - min(countletters.values())"
   ]
  },
  {
   "cell_type": "code",
   "execution_count": null,
   "metadata": {},
   "outputs": [],
   "source": []
  }
 ],
 "metadata": {
  "interpreter": {
   "hash": "31f2aee4e71d21fbe5cf8b01ff0e069b9275f58929596ceb00d14d90e3e16cd6"
  },
  "kernelspec": {
   "display_name": "Python 3.8.10 64-bit",
   "language": "python",
   "name": "python3"
  },
  "language_info": {
   "codemirror_mode": {
    "name": "ipython",
    "version": 3
   },
   "file_extension": ".py",
   "mimetype": "text/x-python",
   "name": "python",
   "nbconvert_exporter": "python",
   "pygments_lexer": "ipython3",
   "version": "3.8.10"
  },
  "orig_nbformat": 4
 },
 "nbformat": 4,
 "nbformat_minor": 2
}
