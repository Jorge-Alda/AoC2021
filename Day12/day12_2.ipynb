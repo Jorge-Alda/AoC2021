{
 "cells": [
  {
   "cell_type": "code",
   "execution_count": 3,
   "metadata": {},
   "outputs": [],
   "source": [
    "import copy"
   ]
  },
  {
   "cell_type": "code",
   "execution_count": 4,
   "metadata": {},
   "outputs": [],
   "source": [
    "with open('input') as f:\n",
    "    data = f.read()"
   ]
  },
  {
   "cell_type": "code",
   "execution_count": 1,
   "metadata": {},
   "outputs": [],
   "source": [
    "class Route():\n",
    "\n",
    "    def __init__(self, path):\n",
    "        self.path = path\n",
    "        self.visits = {}\n",
    "        for p in path:\n",
    "            if p == p.lower():\n",
    "                if p in self.visits.keys():\n",
    "                    self.visits[p] += 1\n",
    "                else:\n",
    "                    self.visits.update({p:1})\n",
    "\n",
    "    def nextstep(self, cave):\n",
    "        if cave == 'start':\n",
    "            return None\n",
    "        elif (cave in self.visits.keys()) and (max(self.visits.values()) == 2):\n",
    "            return None\n",
    "        else:\n",
    "            newpath = copy.deepcopy(self.path)\n",
    "            newpath.append(cave)\n",
    "            return Route(newpath)\n",
    "\n",
    "    @property\n",
    "    def last(self):\n",
    "        return self.path[-1]"
   ]
  },
  {
   "cell_type": "code",
   "execution_count": 5,
   "metadata": {},
   "outputs": [],
   "source": [
    "rooms = set()\n",
    "lines = data.split('\\n')\n",
    "lines = lines[:-1]\n",
    "for l in lines:\n",
    "    cl = l.split('-')\n",
    "    rooms.add(cl[0])\n",
    "    rooms.add(cl[1])\n",
    "doors = {c:[] for c in rooms}\n",
    "for l in lines:\n",
    "    cl = l.split('-')\n",
    "    doors[cl[0]].append(cl[1])\n",
    "    doors[cl[1]].append(cl[0])"
   ]
  },
  {
   "cell_type": "code",
   "execution_count": 6,
   "metadata": {},
   "outputs": [],
   "source": [
    "finished = 0\n",
    "routes = [Route(['start',]),]\n",
    "while len(routes) > 0:\n",
    "    newroutes = []\n",
    "    for r in routes:\n",
    "        for c in doors[r.last]:\n",
    "            if c == 'end':\n",
    "                finished += 1\n",
    "            else:\n",
    "                nr = r.nextstep(c)\n",
    "                if nr is not None:\n",
    "                    newroutes.append(nr)\n",
    "    routes = copy.deepcopy(newroutes)"
   ]
  },
  {
   "cell_type": "code",
   "execution_count": 7,
   "metadata": {},
   "outputs": [
    {
     "data": {
      "text/plain": [
       "117509"
      ]
     },
     "execution_count": 7,
     "metadata": {},
     "output_type": "execute_result"
    }
   ],
   "source": [
    "finished"
   ]
  },
  {
   "cell_type": "code",
   "execution_count": null,
   "metadata": {},
   "outputs": [],
   "source": []
  }
 ],
 "metadata": {
  "interpreter": {
   "hash": "31f2aee4e71d21fbe5cf8b01ff0e069b9275f58929596ceb00d14d90e3e16cd6"
  },
  "kernelspec": {
   "display_name": "Python 3.8.10 64-bit",
   "language": "python",
   "name": "python3"
  },
  "language_info": {
   "codemirror_mode": {
    "name": "ipython",
    "version": 3
   },
   "file_extension": ".py",
   "mimetype": "text/x-python",
   "name": "python",
   "nbconvert_exporter": "python",
   "pygments_lexer": "ipython3",
   "version": "3.8.10"
  },
  "orig_nbformat": 4
 },
 "nbformat": 4,
 "nbformat_minor": 2
}
