{
 "cells": [
  {
   "cell_type": "code",
   "execution_count": 1,
   "metadata": {},
   "outputs": [],
   "source": [
    "with open('input') as f:\n",
    "    data = f.read()"
   ]
  },
  {
   "cell_type": "code",
   "execution_count": 16,
   "metadata": {},
   "outputs": [],
   "source": [
    "def fold(points: list[tuple[int, int]], dir: str, loc: int) -> list[tuple[int, int]]:\n",
    "    newpoints = []\n",
    "    for p in points:\n",
    "        if dir == 'x':\n",
    "            newpoints.append((p[0] if p[0] < loc else 2*loc-p[0], p[1]))\n",
    "        else:\n",
    "            newpoints.append((p[0], p[1] if p[1] < loc else 2*loc-p[1]))\n",
    "    return list(set(newpoints))"
   ]
  },
  {
   "cell_type": "code",
   "execution_count": 18,
   "metadata": {},
   "outputs": [],
   "source": [
    "def part1(data: str) -> int:\n",
    "    points, instructions = data.strip().split('\\n\\n')\n",
    "    ins = []\n",
    "    for i in instructions.split('\\n'):\n",
    "        part1, part2 = i.split('=')\n",
    "        ins.append((part1[-1], int(part2)))\n",
    "    pts = []\n",
    "    for p in points.split('\\n'):\n",
    "        x, y = p.split(',')\n",
    "        pts.append((int(x), int(y)))\n",
    "    return len(fold(pts, ins[0][0], ins[0][1]))"
   ]
  },
  {
   "cell_type": "code",
   "execution_count": 13,
   "metadata": {},
   "outputs": [],
   "source": [
    "test = \"\"\"6,10\n",
    "0,14\n",
    "9,10\n",
    "0,3\n",
    "10,4\n",
    "4,11\n",
    "6,0\n",
    "6,12\n",
    "4,1\n",
    "0,13\n",
    "10,12\n",
    "3,4\n",
    "3,0\n",
    "8,4\n",
    "1,10\n",
    "2,14\n",
    "8,10\n",
    "9,0\n",
    "\n",
    "fold along y=7\n",
    "fold along x=5\n",
    "\"\"\""
   ]
  },
  {
   "cell_type": "code",
   "execution_count": 19,
   "metadata": {},
   "outputs": [
    {
     "data": {
      "text/plain": [
       "17"
      ]
     },
     "execution_count": 19,
     "metadata": {},
     "output_type": "execute_result"
    }
   ],
   "source": [
    "part1(test)"
   ]
  },
  {
   "cell_type": "code",
   "execution_count": 20,
   "metadata": {},
   "outputs": [
    {
     "data": {
      "text/plain": [
       "842"
      ]
     },
     "execution_count": 20,
     "metadata": {},
     "output_type": "execute_result"
    }
   ],
   "source": [
    "part1(data)"
   ]
  },
  {
   "cell_type": "markdown",
   "metadata": {},
   "source": [
    "## Part 2"
   ]
  },
  {
   "cell_type": "code",
   "execution_count": 21,
   "metadata": {},
   "outputs": [],
   "source": [
    "import copy"
   ]
  },
  {
   "cell_type": "code",
   "execution_count": 26,
   "metadata": {},
   "outputs": [],
   "source": [
    "def part2(data: str) -> list[tuple[int, int]]:\n",
    "    points, instructions = data.strip().split('\\n\\n')\n",
    "    ins = []\n",
    "    for i in instructions.split('\\n'):\n",
    "        part1, part2 = i.split('=')\n",
    "        ins.append((part1[-1], int(part2)))\n",
    "    pts = []\n",
    "    for p in points.split('\\n'):\n",
    "        x, y = p.split(',')\n",
    "        pts.append((int(x), int(y)))\n",
    "    pts2 = copy.deepcopy(pts)\n",
    "    for i in ins:\n",
    "        pts2 = fold(pts2, i[0], i[1])\n",
    "    return pts2"
   ]
  },
  {
   "cell_type": "code",
   "execution_count": 27,
   "metadata": {},
   "outputs": [],
   "source": [
    "pts = part2(data)"
   ]
  },
  {
   "cell_type": "code",
   "execution_count": 28,
   "metadata": {},
   "outputs": [
    {
     "data": {
      "text/plain": [
       "95"
      ]
     },
     "execution_count": 28,
     "metadata": {},
     "output_type": "execute_result"
    }
   ],
   "source": [
    "len(pts)"
   ]
  },
  {
   "cell_type": "code",
   "execution_count": 29,
   "metadata": {},
   "outputs": [],
   "source": [
    "max_x = 0\n",
    "max_y = 0\n",
    "\n",
    "for p in pts:\n",
    "    max_x = max(max_x, p[0])\n",
    "    max_y = max(max_y, p[1])"
   ]
  },
  {
   "cell_type": "code",
   "execution_count": 30,
   "metadata": {},
   "outputs": [
    {
     "data": {
      "text/plain": [
       "38"
      ]
     },
     "execution_count": 30,
     "metadata": {},
     "output_type": "execute_result"
    }
   ],
   "source": [
    "max_x"
   ]
  },
  {
   "cell_type": "code",
   "execution_count": 31,
   "metadata": {},
   "outputs": [
    {
     "data": {
      "text/plain": [
       "5"
      ]
     },
     "execution_count": 31,
     "metadata": {},
     "output_type": "execute_result"
    }
   ],
   "source": [
    "max_y"
   ]
  },
  {
   "cell_type": "code",
   "execution_count": 39,
   "metadata": {},
   "outputs": [
    {
     "name": "stdout",
     "output_type": "stream",
     "text": [
      "▓▓▓░░▓▓▓▓░▓░░▓░▓▓▓░░░▓▓░░░░▓▓░▓▓▓▓░▓░░▓\n",
      "▓░░▓░▓░░░░▓░▓░░▓░░▓░▓░░▓░░░░▓░░░░▓░▓░░▓\n",
      "▓▓▓░░▓▓▓░░▓▓░░░▓░░▓░▓░░░░░░░▓░░░▓░░▓░░▓\n",
      "▓░░▓░▓░░░░▓░▓░░▓▓▓░░▓░░░░░░░▓░░▓░░░▓░░▓\n",
      "▓░░▓░▓░░░░▓░▓░░▓░▓░░▓░░▓░▓░░▓░▓░░░░▓░░▓\n",
      "▓▓▓░░▓░░░░▓░░▓░▓░░▓░░▓▓░░░▓▓░░▓▓▓▓░░▓▓░\n"
     ]
    }
   ],
   "source": [
    "for y in range(0, max_y+1):\n",
    "    for x in range(0, max_x+1):\n",
    "        if (x, y) in pts:\n",
    "            print('▓', end='')\n",
    "        else:\n",
    "            print('░', end='')\n",
    "    print('\\n', end='')"
   ]
  },
  {
   "cell_type": "code",
   "execution_count": null,
   "metadata": {},
   "outputs": [],
   "source": []
  }
 ],
 "metadata": {
  "kernelspec": {
   "display_name": "Python 3.10.8",
   "language": "python",
   "name": "python3"
  },
  "language_info": {
   "codemirror_mode": {
    "name": "ipython",
    "version": 3
   },
   "file_extension": ".py",
   "mimetype": "text/x-python",
   "name": "python",
   "nbconvert_exporter": "python",
   "pygments_lexer": "ipython3",
   "version": "3.10.8"
  },
  "orig_nbformat": 4,
  "vscode": {
   "interpreter": {
    "hash": "97cc609b13305c559618ec78a438abc56230b9381f827f22d070313b9a1f3777"
   }
  }
 },
 "nbformat": 4,
 "nbformat_minor": 2
}
