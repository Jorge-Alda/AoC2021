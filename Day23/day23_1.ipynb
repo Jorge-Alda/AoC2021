{
 "cells": [
  {
   "cell_type": "code",
   "execution_count": 1,
   "metadata": {},
   "outputs": [],
   "source": [
    "from collections import defaultdict\n",
    "from itertools import product"
   ]
  },
  {
   "attachments": {},
   "cell_type": "markdown",
   "metadata": {},
   "source": [
    "We are going to give names to the spaces:\n",
    "\n",
    "```text\n",
    "#############\n",
    "#abcdefghijk#\n",
    "###l#m#n#o###\n",
    "  #p#q#r#s#\n",
    "  #########\n",
    "```"
   ]
  },
  {
   "cell_type": "code",
   "execution_count": 2,
   "metadata": {},
   "outputs": [],
   "source": [
    "neighbours: dict[str, tuple[str]] = {\n",
    "    'a': ('b'),\n",
    "    'b': ('a', 'c'),\n",
    "    'c': ('b', 'd', 'l'),\n",
    "    'd': ('c', 'e'),\n",
    "    'e': ('d', 'f', 'm'),\n",
    "    'f': ('e', 'g'),\n",
    "    'g': ('f', 'h', 'n'),\n",
    "    'h': ('g', 'i'),\n",
    "    'i': ('h', 'j', 'o'),\n",
    "    'j': ('i', 'k'),\n",
    "    'k': ('j',),\n",
    "    'l': ('c', 'p'),\n",
    "    'm': ('e', 'q'),\n",
    "    'n': ('g', 'r'),\n",
    "    'o': ('i', 's'),\n",
    "    'p': ('l',),\n",
    "    'q': ('m',),\n",
    "    'r': ('n',),\n",
    "    's': ('o'),\n",
    "}"
   ]
  },
  {
   "cell_type": "code",
   "execution_count": 3,
   "metadata": {},
   "outputs": [],
   "source": [
    "def check_neighbours():\n",
    "    for s, n in neighbours.items():\n",
    "        for ns in n:\n",
    "            if not s in neighbours[ns]:\n",
    "                print(f\"Space {s} not listed in {ns}\")"
   ]
  },
  {
   "cell_type": "code",
   "execution_count": 4,
   "metadata": {},
   "outputs": [],
   "source": [
    "rooms: dict[str, tuple[str]] = {\n",
    "    'A': ('l', 'p'),\n",
    "    'B': ('m', 'q'),\n",
    "    'C': ('n', 'r'),\n",
    "    'D': ('o', 's'),\n",
    "}\n",
    "\n",
    "inner_rooms = {k: v[1] for k, v in rooms.items()}\n",
    "outer_rooms = {k: v[0] for k, v in rooms.items()}\n",
    "\n",
    "outsides = tuple('cegi')\n",
    "hallway = tuple(chr(i+97) for i in range(ord('l')-97))"
   ]
  },
  {
   "cell_type": "code",
   "execution_count": 5,
   "metadata": {},
   "outputs": [],
   "source": [
    "energy = {\n",
    "    'A': 1,\n",
    "    'B': 10,\n",
    "    'C': 100,\n",
    "    'D': 1000,\n",
    "}"
   ]
  },
  {
   "cell_type": "code",
   "execution_count": 83,
   "metadata": {},
   "outputs": [],
   "source": [
    "class Map:\n",
    "    def __init__(self, amphipods: dict[str, str]):\n",
    "        self.amphipods = amphipods\n",
    "        self.keys = [\"\".join(p) for p in product('ABCD', '01')]\n",
    "\n",
    "        self.occupation = defaultdict(lambda: '.')\n",
    "        for amphi, p in self.amphipods.items():\n",
    "            self.occupation[p] = amphi[0]\n",
    "        self.last_moved = ''\n",
    "\n",
    "    def __str__(self) -> str:\n",
    "        m = \"#############\\n#\"\n",
    "        for c in range(ord('a'), ord('l')):\n",
    "            m += self.occupation[chr(c)]\n",
    "        m += f\"#\\n###{self.occupation['l']}#{self.occupation['m']}#{self.occupation['n']}#{self.occupation['o']}###\\n\"\n",
    "        m += f\"  #{self.occupation['p']}#{self.occupation['q']}#{self.occupation['r']}#{self.occupation['s']}#  \\n\"\n",
    "        m += \"  #########\"\n",
    "        return m\n",
    "\n",
    "    @classmethod\n",
    "    def from_map(cls, room_map: str) -> \"Map\":\n",
    "        room = 0\n",
    "        pos = {'A': [], 'B': [], 'C': [], 'D': []}\n",
    "        for l in room_map.split('\\n'):\n",
    "            for c in l:\n",
    "                match c:\n",
    "                    case '.':\n",
    "                        room += 1\n",
    "                    case '#' | ' ':\n",
    "                        pass\n",
    "                    case str(a):\n",
    "                        pos[a].append(chr(97+room))\n",
    "                        room += 1\n",
    "        amphipods = {k+str(i): v[i] for k, v in pos.items() for i in range(2)}\n",
    "        return cls(amphipods)\n",
    "\n",
    "    def code(self) -> str:\n",
    "        return \"\".join(self.amphipods[k] for k in self.keys)\n",
    "\n",
    "    def move(self, amphi: str, dest: str):\n",
    "        if self.occupation[dest] != '.':\n",
    "            return None\n",
    "        if self.amphipods[amphi] == dest:\n",
    "            return None\n",
    "        new_amphis = {k: v for k, v in self.amphipods.items()}\n",
    "        new_amphis[amphi] = dest\n",
    "        m = Map(new_amphis)\n",
    "        m.last_moved = amphi\n",
    "        return m\n",
    "\n",
    "    def is_in_room(self, amphi: str) -> bool:\n",
    "        return self.amphipods[amphi] in rooms[amphi[0]]\n",
    "\n",
    "    def all_in_rooms(self) -> bool:\n",
    "        return all(self.is_in_room(a) for a in self.amphipods.keys())\n",
    "\n",
    "    def is_blocking_inner(self, amphi: str) -> bool:\n",
    "        return (self.amphipods[amphi] in outer_rooms[amphi[0]]) and (self.occupation[inner_rooms[amphi[0]]] != amphi[0])\n",
    "\n",
    "    def is_outside(self, amphi: str) -> bool:\n",
    "        return self.amphipods[amphi] in outsides\n",
    "\n",
    "    def is_in_hallway(self, amphi: str) -> bool:\n",
    "        return self.amphipods[amphi] in hallway\n",
    "\n",
    "    def is_empty(self, r: str) -> bool:\n",
    "        return self.occupation[r] == '.'\n",
    "\n",
    "    def can_go_room(self, amphi: str) -> bool:\n",
    "        return (self.occupation[outer_rooms[amphi[0]]] == '.') and (self.occupation[inner_rooms[amphi[0]]] in ('.', amphi[0]))\n",
    "\n",
    "    def propose_moves(self, amphi: str) -> list[str]:\n",
    "        pos = self.amphipods[amphi]\n",
    "        if self.is_in_room(amphi) and not(self.is_blocking_inner(amphi)):\n",
    "            return []\n",
    "        if (pos == outer_rooms[amphi[0]]) and self.is_empty(inner_rooms[amphi[0]]):\n",
    "                return [inner_rooms[amphi[0]],]\n",
    "        l = []\n",
    "        for r in neighbours[pos]:\n",
    "                if self.is_empty(r):\n",
    "                    if r in outer_rooms.values():\n",
    "                        if pos in inner_rooms.values():\n",
    "                            l.append(r)\n",
    "                        if r == outer_rooms[amphi[0]] and self.occupation[inner_rooms[amphi[0]]] in ('.', amphi[0]):\n",
    "                            l.append(r)\n",
    "                    else:\n",
    "                        l.append(r)\n",
    "        return l\n",
    "\n",
    "    def next_moves(self) -> dict[str, list[str]]:\n",
    "        moves = dict()\n",
    "        if self.last_moved and self.amphipods[self.last_moved] in outsides:\n",
    "            return {self.last_moved: self.propose_moves(self.last_moved)}\n",
    "        for amphi in self.amphipods.keys():\n",
    "            if (amphi == self.last_moved) or not(self.is_in_hallway(amphi)) or self.can_go_room(amphi):\n",
    "                m = self.propose_moves(amphi)\n",
    "                if m != []:\n",
    "                    moves.update({amphi: m})\n",
    "        return moves"
   ]
  },
  {
   "cell_type": "code",
   "execution_count": 7,
   "metadata": {},
   "outputs": [],
   "source": [
    "test = \"\"\"\n",
    "#############\n",
    "#...........#\n",
    "###B#C#B#D###\n",
    "  #A#D#C#A#\n",
    "  #########\n",
    "\"\"\""
   ]
  },
  {
   "cell_type": "code",
   "execution_count": 84,
   "metadata": {},
   "outputs": [
    {
     "name": "stdout",
     "output_type": "stream",
     "text": [
      "#############\n",
      "#...........#\n",
      "###B#C#B#D###\n",
      "  #A#D#C#A#  \n",
      "  #########\n"
     ]
    },
    {
     "data": {
      "text/plain": [
       "{'B0': ['c'], 'B1': ['g'], 'C0': ['e'], 'D0': ['i']}"
      ]
     },
     "execution_count": 84,
     "metadata": {},
     "output_type": "execute_result"
    }
   ],
   "source": [
    "map_test = Map.from_map(test)\n",
    "print(map_test)\n",
    "map_test.next_moves()"
   ]
  },
  {
   "cell_type": "code",
   "execution_count": 87,
   "metadata": {},
   "outputs": [],
   "source": [
    "def energy_path(map_input: Map) -> int:\n",
    "    maps = [(map_input, 0),]\n",
    "    dict_maps: dict[str, int] = dict()\n",
    "    min_energy = 1000000000000\n",
    "\n",
    "    while len(maps) > 0:\n",
    "        next_maps = []\n",
    "        for m, en_m in maps:\n",
    "            for amphi, spaces in m.next_moves().items():\n",
    "                en = energy[amphi[0]] + en_m\n",
    "                for s in spaces:\n",
    "                    new_map = m.move(amphi, s)\n",
    "                    if (code := new_map.code()) in dict_maps.keys():\n",
    "                        if en < dict_maps[code]:\n",
    "                            dict_maps[code] = en\n",
    "                            next_maps.append((new_map, en))\n",
    "                            if new_map.all_in_rooms():\n",
    "                                min_energy = min(min_energy, en)\n",
    "                    else:\n",
    "                        dict_maps[code] = en\n",
    "                        next_maps.append((new_map, en))\n",
    "                        if new_map.all_in_rooms():\n",
    "                            min_energy = min(min_energy, en)\n",
    "        maps = next_maps\n",
    "    return min_energy\n"
   ]
  },
  {
   "cell_type": "code",
   "execution_count": 88,
   "metadata": {},
   "outputs": [
    {
     "data": {
      "text/plain": [
       "12521"
      ]
     },
     "execution_count": 88,
     "metadata": {},
     "output_type": "execute_result"
    }
   ],
   "source": [
    "energy_path(map_test)"
   ]
  },
  {
   "cell_type": "code",
   "execution_count": 89,
   "metadata": {},
   "outputs": [],
   "source": [
    "inp = \"\"\"\n",
    "#############\n",
    "#...........#\n",
    "###D#C#D#B###\n",
    "  #C#A#A#B#\n",
    "  #########\n",
    "\"\"\""
   ]
  },
  {
   "cell_type": "code",
   "execution_count": 90,
   "metadata": {},
   "outputs": [
    {
     "data": {
      "text/plain": [
       "14415"
      ]
     },
     "execution_count": 90,
     "metadata": {},
     "output_type": "execute_result"
    }
   ],
   "source": [
    "energy_path(Map.from_map(inp))"
   ]
  },
  {
   "cell_type": "code",
   "execution_count": null,
   "metadata": {},
   "outputs": [],
   "source": []
  }
 ],
 "metadata": {
  "kernelspec": {
   "display_name": "Python 3.10.8",
   "language": "python",
   "name": "python3"
  },
  "language_info": {
   "codemirror_mode": {
    "name": "ipython",
    "version": 3
   },
   "file_extension": ".py",
   "mimetype": "text/x-python",
   "name": "python",
   "nbconvert_exporter": "python",
   "pygments_lexer": "ipython3",
   "version": "3.10.8"
  },
  "orig_nbformat": 4,
  "vscode": {
   "interpreter": {
    "hash": "97cc609b13305c559618ec78a438abc56230b9381f827f22d070313b9a1f3777"
   }
  }
 },
 "nbformat": 4,
 "nbformat_minor": 2
}
