{
 "cells": [
  {
   "cell_type": "code",
   "execution_count": 67,
   "metadata": {},
   "outputs": [],
   "source": [
    "with open('input') as f:\n",
    "    data = f.read()\n",
    "lines = data.split('\\n')\n",
    "algorithm = lines[0]\n",
    "lines = lines[2:-1]\n",
    "nmap = len(lines)"
   ]
  },
  {
   "cell_type": "code",
   "execution_count": 112,
   "metadata": {},
   "outputs": [],
   "source": [
    "pad = 500"
   ]
  },
  {
   "cell_type": "code",
   "execution_count": 50,
   "metadata": {},
   "outputs": [],
   "source": [
    "import numpy as np"
   ]
  },
  {
   "cell_type": "code",
   "execution_count": 113,
   "metadata": {},
   "outputs": [],
   "source": [
    "scan = np.zeros((2*pad+nmap, 2*pad+nmap))"
   ]
  },
  {
   "cell_type": "code",
   "execution_count": 114,
   "metadata": {},
   "outputs": [],
   "source": [
    "for x in range(nmap):\n",
    "    for y in range(nmap):\n",
    "        if lines[x][y] == '#':\n",
    "            scan[x+pad, y+pad] = 1"
   ]
  },
  {
   "cell_type": "code",
   "execution_count": 108,
   "metadata": {},
   "outputs": [],
   "source": [
    "def enhance(scan):\n",
    "    newmap = np.zeros((2*pad+nmap, 2*pad+nmap))\n",
    "    for x in range(1, 2*pad+nmap-1):\n",
    "        for y in range(1, 2*pad+nmap-1):\n",
    "            num = 2**8 * scan[x-1, y-1] + 2**7 * scan[x-1, y] + 2**6 * scan[x-1, y+1] + 2**5 * scan[x, y-1] + 2**4 * scan[x, y] + 2**3 * scan[x, y+1] + 2**2 * scan[x+1, y-1] + 2 * scan[x+1, y] + scan[x+1, y+1]\n",
    "            if algorithm[int(num)] == '#':\n",
    "                newmap[x, y] = 1\n",
    "    return newmap"
   ]
  },
  {
   "cell_type": "code",
   "execution_count": 115,
   "metadata": {},
   "outputs": [],
   "source": [
    "sc2 = enhance(scan)\n",
    "sc3 = enhance(sc2)"
   ]
  },
  {
   "cell_type": "code",
   "execution_count": 116,
   "metadata": {},
   "outputs": [
    {
     "data": {
      "text/plain": [
       "5583.0"
      ]
     },
     "execution_count": 116,
     "metadata": {},
     "output_type": "execute_result"
    }
   ],
   "source": [
    "np.sum(sc3[int(pad/2):int(pad+nmap+pad/2),int(pad/2):int(pad+nmap+pad/2)])"
   ]
  },
  {
   "cell_type": "code",
   "execution_count": 118,
   "metadata": {},
   "outputs": [],
   "source": [
    "for i in range(48):\n",
    "    sc3 = enhance(sc3)"
   ]
  },
  {
   "cell_type": "code",
   "execution_count": 119,
   "metadata": {},
   "outputs": [
    {
     "data": {
      "text/plain": [
       "19592.0"
      ]
     },
     "execution_count": 119,
     "metadata": {},
     "output_type": "execute_result"
    }
   ],
   "source": [
    "np.sum(sc3[int(pad/2):int(pad+nmap+pad/2),int(pad/2):int(pad+nmap+pad/2)])"
   ]
  },
  {
   "cell_type": "code",
   "execution_count": null,
   "metadata": {},
   "outputs": [],
   "source": []
  }
 ],
 "metadata": {
  "interpreter": {
   "hash": "31f2aee4e71d21fbe5cf8b01ff0e069b9275f58929596ceb00d14d90e3e16cd6"
  },
  "kernelspec": {
   "display_name": "Python 3.8.10 64-bit",
   "language": "python",
   "name": "python3"
  },
  "language_info": {
   "codemirror_mode": {
    "name": "ipython",
    "version": 3
   },
   "file_extension": ".py",
   "mimetype": "text/x-python",
   "name": "python",
   "nbconvert_exporter": "python",
   "pygments_lexer": "ipython3",
   "version": "3.8.10"
  },
  "orig_nbformat": 4
 },
 "nbformat": 4,
 "nbformat_minor": 2
}
