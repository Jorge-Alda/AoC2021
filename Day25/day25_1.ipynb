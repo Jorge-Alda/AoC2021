{
 "cells": [
  {
   "cell_type": "code",
   "execution_count": 22,
   "metadata": {},
   "outputs": [],
   "source": [
    "import copy"
   ]
  },
  {
   "cell_type": "code",
   "execution_count": 23,
   "metadata": {},
   "outputs": [],
   "source": [
    "with open('input') as f:\n",
    "    data = f.read()\n",
    "lines = data.split('\\n')\n",
    "lines = lines[:-1]\n",
    "map = [list(l) for l in lines]"
   ]
  },
  {
   "cell_type": "code",
   "execution_count": 24,
   "metadata": {},
   "outputs": [],
   "source": [
    "def east(map):\n",
    "    newmap = copy.deepcopy(map)\n",
    "    for i in range(len(map)):\n",
    "        for j in range(len(map[i])-1):\n",
    "            if (map[i][j] == '>') and (map[i][j+1] == '.'):\n",
    "                newmap[i][j] = '.'\n",
    "                newmap[i][j+1] = '>'\n",
    "        if (map[i][-1] == '>') and (map[i][0] == '.'):\n",
    "            newmap[i][-1] = '.'\n",
    "            newmap[i][0] = '>'\n",
    "    return newmap\n"
   ]
  },
  {
   "cell_type": "code",
   "execution_count": 27,
   "metadata": {},
   "outputs": [],
   "source": [
    "def south(map):\n",
    "    newmap = copy.deepcopy(map)\n",
    "    for j in range(len(map[0])):\n",
    "        for i in range(len(map)-1):\n",
    "            if (map[i][j] == 'v') and (map[i+1][j] == '.'):\n",
    "                newmap[i][j] = '.'\n",
    "                newmap[i+1][j] = 'v'\n",
    "        if (map[-1][j] == 'v') and (map[0][j] == '.'):\n",
    "            newmap[-1][j] = '.'\n",
    "            newmap[0][j] = 'v'\n",
    "    return newmap"
   ]
  },
  {
   "cell_type": "code",
   "execution_count": 30,
   "metadata": {},
   "outputs": [],
   "source": [
    "count = 0\n",
    "moved = True\n",
    "while moved:\n",
    "    map2 = south(east(map))\n",
    "    count += 1\n",
    "    if map2 == map:\n",
    "        moved = False\n",
    "    else:\n",
    "        map = copy.deepcopy(map2)"
   ]
  },
  {
   "cell_type": "code",
   "execution_count": 31,
   "metadata": {},
   "outputs": [
    {
     "data": {
      "text/plain": [
       "456"
      ]
     },
     "execution_count": 31,
     "metadata": {},
     "output_type": "execute_result"
    }
   ],
   "source": [
    "count"
   ]
  },
  {
   "cell_type": "code",
   "execution_count": null,
   "metadata": {},
   "outputs": [],
   "source": []
  }
 ],
 "metadata": {
  "interpreter": {
   "hash": "31f2aee4e71d21fbe5cf8b01ff0e069b9275f58929596ceb00d14d90e3e16cd6"
  },
  "kernelspec": {
   "display_name": "Python 3.8.10 64-bit",
   "language": "python",
   "name": "python3"
  },
  "language_info": {
   "codemirror_mode": {
    "name": "ipython",
    "version": 3
   },
   "file_extension": ".py",
   "mimetype": "text/x-python",
   "name": "python",
   "nbconvert_exporter": "python",
   "pygments_lexer": "ipython3",
   "version": "3.8.10"
  },
  "orig_nbformat": 4
 },
 "nbformat": 4,
 "nbformat_minor": 2
}
