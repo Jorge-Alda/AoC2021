{
 "cells": [
  {
   "cell_type": "code",
   "execution_count": 110,
   "metadata": {},
   "outputs": [],
   "source": [
    "xtarget = (124, 174)\n",
    "ytarget = (-123, -86)\n",
    "#xtarget = (20, 30)\n",
    "#ytarget = (-10, -5)"
   ]
  },
  {
   "cell_type": "code",
   "execution_count": 33,
   "metadata": {},
   "outputs": [],
   "source": [
    "class probe():\n",
    "\n",
    "    def __init__(self, vx, vy):\n",
    "        self.x = 0\n",
    "        self.y = 0\n",
    "        self.vx = vx\n",
    "        self.vy = vy\n",
    "        self.maxy = 0\n",
    "    \n",
    "    def step(self):\n",
    "        self.x += self.vx\n",
    "        self.y += self.vy\n",
    "        if self.vx > 0:\n",
    "            self.vx -= 1\n",
    "        if self.vx < 0:\n",
    "            self.vx += 1\n",
    "        self.vy -= 1\n",
    "        self.maxy = max(self.y, self.maxy)"
   ]
  },
  {
   "cell_type": "code",
   "execution_count": 122,
   "metadata": {},
   "outputs": [],
   "source": [
    "ymax = 0\n",
    "count = 0\n",
    "for vy in range(-300, 300):\n",
    "    for vx in range(0,300):\n",
    "        p = probe(vx, vy)\n",
    "        for i in range(2500):\n",
    "            p.step()\n",
    "            if (p.x >= xtarget[0]) and (p.x <= xtarget[1]) and (p.y <= ytarget[1]) and (p.y >= ytarget[0]):\n",
    "                ymax = max(ymax, p.maxy)\n",
    "                count += 1\n",
    "                #print(f'{vx}, {vy}')\n",
    "                break\n",
    "            if p.y < ytarget[0]:\n",
    "                break\n"
   ]
  },
  {
   "cell_type": "code",
   "execution_count": 123,
   "metadata": {},
   "outputs": [
    {
     "data": {
      "text/plain": [
       "7503"
      ]
     },
     "execution_count": 123,
     "metadata": {},
     "output_type": "execute_result"
    }
   ],
   "source": [
    "ymax"
   ]
  },
  {
   "cell_type": "code",
   "execution_count": 124,
   "metadata": {},
   "outputs": [
    {
     "data": {
      "text/plain": [
       "3229"
      ]
     },
     "execution_count": 124,
     "metadata": {},
     "output_type": "execute_result"
    }
   ],
   "source": [
    "count"
   ]
  },
  {
   "cell_type": "code",
   "execution_count": null,
   "metadata": {},
   "outputs": [],
   "source": []
  }
 ],
 "metadata": {
  "interpreter": {
   "hash": "31f2aee4e71d21fbe5cf8b01ff0e069b9275f58929596ceb00d14d90e3e16cd6"
  },
  "kernelspec": {
   "display_name": "Python 3.8.10 64-bit",
   "language": "python",
   "name": "python3"
  },
  "language_info": {
   "codemirror_mode": {
    "name": "ipython",
    "version": 3
   },
   "file_extension": ".py",
   "mimetype": "text/x-python",
   "name": "python",
   "nbconvert_exporter": "python",
   "pygments_lexer": "ipython3",
   "version": "3.8.10"
  },
  "orig_nbformat": 4
 },
 "nbformat": 4,
 "nbformat_minor": 2
}
