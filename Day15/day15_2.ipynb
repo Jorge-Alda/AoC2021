{
 "cells": [
  {
   "cell_type": "code",
   "execution_count": 12,
   "metadata": {},
   "outputs": [],
   "source": [
    "import numpy as np\n",
    "import numpy.ma as ma\n",
    "from itertools import product"
   ]
  },
  {
   "cell_type": "code",
   "execution_count": 13,
   "metadata": {},
   "outputs": [],
   "source": [
    "def neighbors(coordinate:tuple, width:int, height:int) -> list:\n",
    "    coords = []\n",
    "    x = coordinate[0]\n",
    "    y = coordinate[1]\n",
    "    if x == 0:\n",
    "        xn = [1,]\n",
    "    elif x == width - 1:\n",
    "        xn = [-1,]\n",
    "    else:\n",
    "        xn = [-1, 1]\n",
    "    if y == 0:\n",
    "        yn = [1,]\n",
    "    elif y == height -1:\n",
    "        yn = [-1,]\n",
    "    else:\n",
    "        yn = [-1, 1]\n",
    "    for xy in list(product([0,], yn)) + list(product(xn, [0,])):\n",
    "        coords.append((x + xy[0], y + xy[1]))\n",
    "    return coords"
   ]
  },
  {
   "cell_type": "code",
   "execution_count": 22,
   "metadata": {},
   "outputs": [],
   "source": [
    "with open('input') as f:\n",
    "    data = f.read()"
   ]
  },
  {
   "cell_type": "code",
   "execution_count": 16,
   "metadata": {},
   "outputs": [],
   "source": [
    "class Map():\n",
    "\n",
    "    def __init__(self, data:str) -> None:\n",
    "        lines = data.split('\\n')\n",
    "        lines = lines[:-1]\n",
    "        self.width = 5 * len(lines)\n",
    "        self.height = 5 * len(lines[0])\n",
    "        self.map = np.zeros((self.width, self.height), dtype=int)\n",
    "        for x, l in enumerate(lines):\n",
    "            for y, c in enumerate(l):\n",
    "                for xtile in range(5):\n",
    "                    for ytile in range(5):\n",
    "                        self.map[x+xtile*int(self.width/5), y+ytile*int(self.height/5)] = (int(c) + xtile + ytile - 1) % 9 + 1\n",
    "        self.dist = np.ones((self.width,self.height))*float('inf')\n",
    "        self.visited = np.zeros((self.width,self.height), dtype=bool)\n",
    "        self.dist[0,0] = 0\n",
    "\n",
    "    def step(self):\n",
    "        scores = ma.array(self.dist, mask=self.visited)\n",
    "        next = np.unravel_index(np.argmin(scores, axis=None), scores.shape)\n",
    "        for c in neighbors(next, self.width, self.height):\n",
    "            if not self.visited[c]:\n",
    "                self.dist[c] = min(self.dist[c], self.dist[next] + self.map[c])\n",
    "        self.visited[next] = True\n",
    "\n",
    "    @property\n",
    "    def complete(self):\n",
    "        return self.visited[-1,-1]"
   ]
  },
  {
   "cell_type": "code",
   "execution_count": 23,
   "metadata": {},
   "outputs": [],
   "source": [
    "m = Map(data)"
   ]
  },
  {
   "cell_type": "code",
   "execution_count": 24,
   "metadata": {},
   "outputs": [],
   "source": [
    "while not m.complete:\n",
    "    m.step()"
   ]
  },
  {
   "cell_type": "code",
   "execution_count": 25,
   "metadata": {},
   "outputs": [
    {
     "data": {
      "text/plain": [
       "2829.0"
      ]
     },
     "execution_count": 25,
     "metadata": {},
     "output_type": "execute_result"
    }
   ],
   "source": [
    "m.dist[-1,-1]"
   ]
  },
  {
   "cell_type": "code",
   "execution_count": null,
   "metadata": {},
   "outputs": [],
   "source": []
  }
 ],
 "metadata": {
  "interpreter": {
   "hash": "31f2aee4e71d21fbe5cf8b01ff0e069b9275f58929596ceb00d14d90e3e16cd6"
  },
  "kernelspec": {
   "display_name": "Python 3.8.10 64-bit",
   "language": "python",
   "name": "python3"
  },
  "language_info": {
   "codemirror_mode": {
    "name": "ipython",
    "version": 3
   },
   "file_extension": ".py",
   "mimetype": "text/x-python",
   "name": "python",
   "nbconvert_exporter": "python",
   "pygments_lexer": "ipython3",
   "version": "3.8.10"
  },
  "orig_nbformat": 4
 },
 "nbformat": 4,
 "nbformat_minor": 2
}
